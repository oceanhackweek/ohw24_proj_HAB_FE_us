{
 "cells": [
  {
   "cell_type": "markdown",
   "id": "a95cdf96-8612-4f04-b342-c5f29622a562",
   "metadata": {},
   "source": [
    "## Loading Streamlit/Shiny PACE Data"
   ]
  },
  {
   "cell_type": "code",
   "execution_count": 14,
   "id": "952deb95-9062-4bb9-b304-d74849cc43ef",
   "metadata": {},
   "outputs": [],
   "source": [
    "# pip install earthaccess"
   ]
  },
  {
   "cell_type": "code",
   "execution_count": 35,
   "id": "f5ab88d4-d58a-423f-ab53-19a8a8d2e38a",
   "metadata": {
    "tags": []
   },
   "outputs": [],
   "source": [
    "import earthaccess\n",
    "import xarray as xr\n",
    "from xarray.backends.api import open_datatree\n",
    "import matplotlib.pyplot as plt\n",
    "import cartopy.crs as ccrs\n",
    "import numpy as np"
   ]
  },
  {
   "cell_type": "code",
   "execution_count": 36,
   "id": "84cf7087-1abb-4de1-9ddd-303922a059dc",
   "metadata": {},
   "outputs": [
    {
     "name": "stdout",
     "output_type": "stream",
     "text": [
      "PACE_OCI_L0_SCI\n",
      "PACE_OCI_L1A_SCI\n",
      "PACE_OCI_L1B_SCI\n",
      "PACE_OCI_L1C_SCI\n",
      "PACE_OCI_L2_AOP_NRT\n",
      "PACE_OCI_L2_BGC_NRT\n",
      "PACE_OCI_L2_IOP_NRT\n",
      "PACE_OCI_L2_PAR_NRT\n",
      "PACE_OCI_L3B_CHL_NRT\n",
      "PACE_OCI_L3B_IOP_NRT\n",
      "PACE_OCI_L3B_KD_NRT\n",
      "PACE_OCI_L3B_PAR_NRT\n",
      "PACE_OCI_L3B_POC_NRT\n",
      "PACE_OCI_L3B_RRS_NRT\n",
      "PACE_OCI_L3M_CHL_NRT\n",
      "PACE_OCI_L3M_IOP_NRT\n",
      "PACE_OCI_L3M_KD_NRT\n",
      "PACE_OCI_L3M_PAR_NRT\n",
      "PACE_OCI_L3M_POC_NRT\n",
      "PACE_OCI_L3M_RRS_NRT\n"
     ]
    }
   ],
   "source": [
    "# short_name searches\n",
    "results = earthaccess.search_datasets(instrument=\"oci\")\n",
    "for item in results:\n",
    "    summary = item.summary()\n",
    "    print(summary[\"short-name\"])"
   ]
  },
  {
   "cell_type": "code",
   "execution_count": 37,
   "id": "e23f5f3b-91be-4ee5-a9d3-68064583eaee",
   "metadata": {},
   "outputs": [],
   "source": [
    "# Search for PACE results for a given area using short_name\n",
    "bbox = (-92.1, 29.85, -87.6, 28)\n",
    "clouds = (0, 50)\n",
    "\n",
    "# Pick a level 2+ short_name\n",
    "results = earthaccess.search_data(\n",
    "    short_name = \"PACE_OCI_L2_BGC_NRT\",\n",
    "    count=1)"
   ]
  },
  {
   "cell_type": "code",
   "execution_count": 38,
   "id": "55693b90-0184-43fc-8a79-2c49f670afff",
   "metadata": {},
   "outputs": [
    {
     "data": {
      "text/plain": [
       "[Collection: {'Version': '2.0', 'ShortName': 'PACE_OCI_L2_BGC_NRT'}\n",
       " Spatial coverage: {'HorizontalSpatialDomain': {'Geometry': {'GPolygons': [{'Boundary': {'Points': [{'Latitude': 55.5321, 'Longitude': -158.9474}, {'Latitude': 48.95535, 'Longitude': 162.19775}, {'Latitude': 32.25396, 'Longitude': 172.72687}, {'Latitude': 37.77823, 'Longitude': -158.3922}, {'Latitude': 55.5321, 'Longitude': -158.9474}]}}]}}}\n",
       " Temporal coverage: {'RangeDateTime': {'EndingDateTime': '2024-03-05T00:13:57Z', 'BeginningDateTime': '2024-03-05T00:08:58Z'}}\n",
       " Size(MB): 12.746892929077148\n",
       " Data: ['https://obdaac-tea.earthdatacloud.nasa.gov/ob-cumulus-prod-public/PACE_OCI.20240305T000858.L2.OC_BGC.V2_0.NRT.nc']]"
      ]
     },
     "execution_count": 38,
     "metadata": {},
     "output_type": "execute_result"
    }
   ],
   "source": [
    "results"
   ]
  },
  {
   "cell_type": "code",
   "execution_count": 40,
   "id": "df751e9e-f00d-4dee-82b4-7a8dc828caf2",
   "metadata": {},
   "outputs": [
    {
     "data": {
      "application/vnd.jupyter.widget-view+json": {
       "model_id": "a585cbcb00bc40eeb689b3e09aa4f55f",
       "version_major": 2,
       "version_minor": 0
      },
      "text/plain": [
       "QUEUEING TASKS | :   0%|          | 0/1 [00:00<?, ?it/s]"
      ]
     },
     "metadata": {},
     "output_type": "display_data"
    },
    {
     "data": {
      "application/vnd.jupyter.widget-view+json": {
       "model_id": "c336f9d0d340427294adfc0e268a8c84",
       "version_major": 2,
       "version_minor": 0
      },
      "text/plain": [
       "PROCESSING TASKS | :   0%|          | 0/1 [00:00<?, ?it/s]"
      ]
     },
     "metadata": {},
     "output_type": "display_data"
    },
    {
     "data": {
      "application/vnd.jupyter.widget-view+json": {
       "model_id": "29e2b308a8034aee85d882b44b9b2a22",
       "version_major": 2,
       "version_minor": 0
      },
      "text/plain": [
       "COLLECTING RESULTS | :   0%|          | 0/1 [00:00<?, ?it/s]"
      ]
     },
     "metadata": {},
     "output_type": "display_data"
    }
   ],
   "source": [
    "paths = earthaccess.open(results)"
   ]
  },
  {
   "cell_type": "code",
   "execution_count": 41,
   "id": "22bdee37-6d98-45ba-8b11-1b3286e1c695",
   "metadata": {},
   "outputs": [
    {
     "ename": "ModuleNotFoundError",
     "evalue": "No module named 'xarray.datatree_'",
     "output_type": "error",
     "traceback": [
      "\u001b[0;31m---------------------------------------------------------------------------\u001b[0m",
      "\u001b[0;31mModuleNotFoundError\u001b[0m                       Traceback (most recent call last)",
      "Cell \u001b[0;32mIn[41], line 1\u001b[0m\n\u001b[0;32m----> 1\u001b[0m datatree \u001b[38;5;241m=\u001b[39m \u001b[43mopen_datatree\u001b[49m\u001b[43m(\u001b[49m\u001b[43mpaths\u001b[49m\u001b[43m[\u001b[49m\u001b[38;5;241;43m0\u001b[39;49m\u001b[43m]\u001b[49m\u001b[43m)\u001b[49m\n\u001b[1;32m      2\u001b[0m dataset \u001b[38;5;241m=\u001b[39m xr\u001b[38;5;241m.\u001b[39mmerge(datatree\u001b[38;5;241m.\u001b[39mto_dict()\u001b[38;5;241m.\u001b[39mvalues())\n\u001b[1;32m      3\u001b[0m dataset\n",
      "File \u001b[0;32m/home/.pixi/envs/default/lib/python3.12/site-packages/xarray/backends/api.py:817\u001b[0m, in \u001b[0;36mopen_datatree\u001b[0;34m(filename_or_obj, engine, **kwargs)\u001b[0m\n\u001b[1;32m    813\u001b[0m     engine \u001b[38;5;241m=\u001b[39m plugins\u001b[38;5;241m.\u001b[39mguess_engine(filename_or_obj)\n\u001b[1;32m    815\u001b[0m backend \u001b[38;5;241m=\u001b[39m plugins\u001b[38;5;241m.\u001b[39mget_backend(engine)\n\u001b[0;32m--> 817\u001b[0m \u001b[38;5;28;01mreturn\u001b[39;00m \u001b[43mbackend\u001b[49m\u001b[38;5;241;43m.\u001b[39;49m\u001b[43mopen_datatree\u001b[49m\u001b[43m(\u001b[49m\u001b[43mfilename_or_obj\u001b[49m\u001b[43m,\u001b[49m\u001b[43m \u001b[49m\u001b[38;5;241;43m*\u001b[39;49m\u001b[38;5;241;43m*\u001b[39;49m\u001b[43mkwargs\u001b[49m\u001b[43m)\u001b[49m\n",
      "File \u001b[0;32m/home/.pixi/envs/default/lib/python3.12/site-packages/xarray/backends/h5netcdf_.py:435\u001b[0m, in \u001b[0;36mH5netcdfBackendEntrypoint.open_datatree\u001b[0;34m(self, filename_or_obj, **kwargs)\u001b[0m\n\u001b[1;32m    428\u001b[0m \u001b[38;5;28;01mdef\u001b[39;00m \u001b[38;5;21mopen_datatree\u001b[39m(\n\u001b[1;32m    429\u001b[0m     \u001b[38;5;28mself\u001b[39m,\n\u001b[1;32m    430\u001b[0m     filename_or_obj: \u001b[38;5;28mstr\u001b[39m \u001b[38;5;241m|\u001b[39m os\u001b[38;5;241m.\u001b[39mPathLike[Any] \u001b[38;5;241m|\u001b[39m BufferedIOBase \u001b[38;5;241m|\u001b[39m AbstractDataStore,\n\u001b[1;32m    431\u001b[0m     \u001b[38;5;241m*\u001b[39m\u001b[38;5;241m*\u001b[39mkwargs,\n\u001b[1;32m    432\u001b[0m ) \u001b[38;5;241m-\u001b[39m\u001b[38;5;241m>\u001b[39m DataTree:\n\u001b[1;32m    433\u001b[0m     \u001b[38;5;28;01mfrom\u001b[39;00m \u001b[38;5;21;01mh5netcdf\u001b[39;00m\u001b[38;5;21;01m.\u001b[39;00m\u001b[38;5;21;01mlegacyapi\u001b[39;00m \u001b[38;5;28;01mimport\u001b[39;00m Dataset \u001b[38;5;28;01mas\u001b[39;00m ncDataset\n\u001b[0;32m--> 435\u001b[0m     \u001b[38;5;28;01mreturn\u001b[39;00m \u001b[43m_open_datatree_netcdf\u001b[49m\u001b[43m(\u001b[49m\u001b[43mncDataset\u001b[49m\u001b[43m,\u001b[49m\u001b[43m \u001b[49m\u001b[43mfilename_or_obj\u001b[49m\u001b[43m,\u001b[49m\u001b[43m \u001b[49m\u001b[38;5;241;43m*\u001b[39;49m\u001b[38;5;241;43m*\u001b[39;49m\u001b[43mkwargs\u001b[49m\u001b[43m)\u001b[49m\n",
      "File \u001b[0;32m/home/.pixi/envs/default/lib/python3.12/site-packages/xarray/backends/common.py:140\u001b[0m, in \u001b[0;36m_open_datatree_netcdf\u001b[0;34m(ncDataset, filename_or_obj, **kwargs)\u001b[0m\n\u001b[1;32m    134\u001b[0m \u001b[38;5;28;01mdef\u001b[39;00m \u001b[38;5;21m_open_datatree_netcdf\u001b[39m(\n\u001b[1;32m    135\u001b[0m     ncDataset: ncDataset \u001b[38;5;241m|\u001b[39m ncDatasetLegacyH5,\n\u001b[1;32m    136\u001b[0m     filename_or_obj: \u001b[38;5;28mstr\u001b[39m \u001b[38;5;241m|\u001b[39m os\u001b[38;5;241m.\u001b[39mPathLike[Any] \u001b[38;5;241m|\u001b[39m BufferedIOBase \u001b[38;5;241m|\u001b[39m AbstractDataStore,\n\u001b[1;32m    137\u001b[0m     \u001b[38;5;241m*\u001b[39m\u001b[38;5;241m*\u001b[39mkwargs,\n\u001b[1;32m    138\u001b[0m ) \u001b[38;5;241m-\u001b[39m\u001b[38;5;241m>\u001b[39m DataTree:\n\u001b[1;32m    139\u001b[0m     \u001b[38;5;28;01mfrom\u001b[39;00m \u001b[38;5;21;01mxarray\u001b[39;00m\u001b[38;5;21;01m.\u001b[39;00m\u001b[38;5;21;01mbackends\u001b[39;00m\u001b[38;5;21;01m.\u001b[39;00m\u001b[38;5;21;01mapi\u001b[39;00m \u001b[38;5;28;01mimport\u001b[39;00m open_dataset\n\u001b[0;32m--> 140\u001b[0m     \u001b[38;5;28;01mfrom\u001b[39;00m \u001b[38;5;21;01mxarray\u001b[39;00m\u001b[38;5;21;01m.\u001b[39;00m\u001b[38;5;21;01mdatatree_\u001b[39;00m\u001b[38;5;21;01m.\u001b[39;00m\u001b[38;5;21;01mdatatree\u001b[39;00m \u001b[38;5;28;01mimport\u001b[39;00m DataTree\n\u001b[1;32m    141\u001b[0m     \u001b[38;5;28;01mfrom\u001b[39;00m \u001b[38;5;21;01mxarray\u001b[39;00m\u001b[38;5;21;01m.\u001b[39;00m\u001b[38;5;21;01mdatatree_\u001b[39;00m\u001b[38;5;21;01m.\u001b[39;00m\u001b[38;5;21;01mdatatree\u001b[39;00m\u001b[38;5;21;01m.\u001b[39;00m\u001b[38;5;21;01mtreenode\u001b[39;00m \u001b[38;5;28;01mimport\u001b[39;00m NodePath\n\u001b[1;32m    143\u001b[0m     ds \u001b[38;5;241m=\u001b[39m open_dataset(filename_or_obj, \u001b[38;5;241m*\u001b[39m\u001b[38;5;241m*\u001b[39mkwargs)\n",
      "\u001b[0;31mModuleNotFoundError\u001b[0m: No module named 'xarray.datatree_'"
     ]
    }
   ],
   "source": [
    "datatree = open_datatree(paths[0])\n",
    "dataset = xr.merge(datatree.to_dict().values())\n",
    "dataset"
   ]
  },
  {
   "cell_type": "code",
   "execution_count": null,
   "id": "49148174-31f3-4f80-9eae-1e6ebe4e11ac",
   "metadata": {},
   "outputs": [],
   "source": [
    "artist = dataset[\"chlor_a\"].plot(vmax=5)"
   ]
  },
  {
   "cell_type": "code",
   "execution_count": null,
   "id": "729b40a3-ab6f-408b-8f87-7c3c4a2f84d6",
   "metadata": {},
   "outputs": [],
   "source": [
    "dataset = dataset.set_coords((\"longitude\", \"latitude\"))\n",
    "plot = dataset[\"chlor_a\"].plot(x=\"longitude\", y=\"latitude\", cmap=\"viridis\", vmax=5)"
   ]
  }
 ],
 "metadata": {
  "kernelspec": {
   "display_name": "Python 3 (ipykernel)",
   "language": "python",
   "name": "python3"
  },
  "language_info": {
   "codemirror_mode": {
    "name": "ipython",
    "version": 3
   },
   "file_extension": ".py",
   "mimetype": "text/x-python",
   "name": "python",
   "nbconvert_exporter": "python",
   "pygments_lexer": "ipython3",
   "version": "3.12.4"
  }
 },
 "nbformat": 4,
 "nbformat_minor": 5
}
